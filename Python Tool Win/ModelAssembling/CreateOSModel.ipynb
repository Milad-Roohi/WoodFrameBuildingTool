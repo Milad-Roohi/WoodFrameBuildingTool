{
 "cells": [
  {
   "cell_type": "code",
   "execution_count": 8,
   "metadata": {},
   "outputs": [],
   "source": [
    "import numpy as np \n",
    "import pandas as pd\n",
    "import os \n",
    "import sys\n",
    "from distutils.dir_util import copy_tree\n",
    "\n",
    "# go to the directory where utility functions are stored\n",
    "os.chdir(r'C:\\Users\\User\\Desktop\\WoodFrameBuildingTool\\Python Tool Win\\ModelAssembling')\n",
    "from BuildingModelClass import BuildingModel\n",
    "from utils import *\n",
    "import subprocess\n",
    "import json\n",
    "from json import JSONEncoder\n",
    "import subprocess\n",
    "\n",
    "import time"
   ]
  },
  {
   "cell_type": "code",
   "execution_count": 2,
   "metadata": {},
   "outputs": [
    {
     "output_type": "stream",
     "name": "stdout",
     "text": "[0.3522614619208698, 0.25412715353010734, 0.229149425056406, 0.10394190316450584]\n[0.3566760968107755, 0.26246152581949644, 0.229493709707616, 0.10406880260602897]\n"
    }
   ],
   "source": [
    "# Utility function directory \n",
    "UtilDirectory = r'C:\\Users\\User\\Desktop\\WoodFrameBuildingTool\\Python Tool Win\\ModelAssembling'\n",
    "# Base directory is the main directory that models, model inputs and utility directory stores\n",
    "BaseDirectory = UtilDirectory.replace(\"ModelAssembling\", \"\")\n",
    "# Model directory is where you want to store your model\n",
    "ModelDirectory = BaseDirectory + '\\BuildingModels'\n",
    "# DB directory is where you store Database.csv (for steel section)\n",
    "DBDirecctory = UtilDirectory\n",
    "\n",
    "# If there is no model directory, create one\n",
    "if os.path.isdir(ModelDirectory) != True:\n",
    "    os.chdir(BaseDirectory)\n",
    "    os.mkdir('BuildingModels')\n",
    "    \n",
    "# Read in building name \n",
    "# Make sure the building name is consistent with the input folders\n",
    "os.chdir(UtilDirectory)\n",
    "with open('BuildingName.txt', 'r') as f:\n",
    "    BuildingList = f.read() \n",
    "BuildingList = BuildingList.split('\\n')\n",
    "\n",
    "# Generate eigen analysis, pushover analysis and dynamic analysis models for each one in the building list\n",
    "for i in range(len(BuildingList)):\n",
    "    InfoDirectory = BaseDirectory + '\\BuildingInfo\\%s'%BuildingList[i]\n",
    "    ModelClass = BuildingModel(BuildingList[i], InfoDirectory)\n",
    "\n",
    "    # alternatively, one can choose to read inputs from json \n",
    "    ModelClass.read_in_txt_inputs(BuildingList[i], InfoDirectory)\n",
    "\n",
    "    if os.path.isdir(ModelDirectory+'\\%s'%BuildingList[i]) != True:\n",
    "        os.chdir(ModelDirectory)\n",
    "        os.mkdir('%s'%BuildingList[i])\n",
    "        \n",
    "    os.chdir(ModelDirectory+'/%s'%BuildingList[i])\n",
    "    period = generateModalAnalysisModel(ModelClass.ID, ModelClass, BaseDirectory, DBDirecctory)\n",
    "    # Turn off RunPushoverSwitch to speed up the model creation \n",
    "    generatePushoverAnalysisModel(ModelClass.ID, ModelClass, BaseDirectory, DBDirecctory,\n",
    "                               GenerateModelSwitch = True, RunPushoverSwitch = False)\n",
    "    generateDynamicAnalysisModel(ModelClass.ID, ModelClass, BaseDirectory, DBDirecctory, period,\n",
    "                               GenerateModelSwitch = True)\n",
    "    print(period)\n"
   ]
  },
  {
   "cell_type": "markdown",
   "metadata": {},
   "source": [
    "## Single Scale Single GM Analysis"
   ]
  },
  {
   "cell_type": "code",
   "execution_count": 10,
   "metadata": {},
   "outputs": [
    {
     "output_type": "stream",
     "name": "stdout",
     "text": "Hazard Level 0 GM Pair 1 has finished successfully in 13.043s!\n"
    }
   ],
   "source": [
    "Scale_Sa_GM = '0.162958971\t0.325917943\t0.488876914\t0.651835885\t0.814794857\t0.977753828\t1.140712799\t1.303671771\t1.466630742\t1.629589713\t1.792548685\t1.955507656\t2.118466627\t2.281425599\t2.44438457'\n",
    "GM_Num = '22 22 22 22 22 22 22 22 22 22 22 22 22 22 22'\n",
    "GM_ID = 1 # GM pair\n",
    "GM_folder = r'GM_sets/FEMA44_FarFault'\n",
    "Model_Name = BuildingList[0]\n",
    "\n",
    "\n",
    "s = time.time()\n",
    "SetupDyamaicAnalysis(ModelDirectory, Scale_Sa_GM, GM_Num, GM_ID, GM_folder, Model_Name, 1)\n",
    "os.chdir(r'C:\\Users\\User\\Desktop\\WoodFrameBuildingTool\\Python Tool Win\\BuildingModels')\n",
    "r = os.system('OpenSees RunDynamic_Single.tcl')\n",
    "f = time.time()\n",
    "if not r: \n",
    "    print('Hazard Level %i GM Pair %s has finished successfully in %.3fs!'%(int(GM_ID/22)+1, str(GM_ID-int(GM_ID/22)), f-s))\n",
    "else: print('GM Pair %s has failed'%str(GM_ID))"
   ]
  },
  {
   "cell_type": "markdown",
   "metadata": {},
   "source": [
    "## Incremental Dynamic Analysis "
   ]
  },
  {
   "cell_type": "code",
   "execution_count": 15,
   "metadata": {},
   "outputs": [
    {
     "output_type": "stream",
     "name": "stdout",
     "text": "Hazard Level 1 GM Pair 1 with Pairing ID 1 has finished successfully in 12.703s!\nEstimate remaining time 266.763\nHazard Level 1 GM Pair 2 with Pairing ID 1 has finished successfully in 9.156s!\nEstimate remaining time 183.127\nHazard Level 1 GM Pair 3 with Pairing ID 1 has finished successfully in 23.016s!\nEstimate remaining time 437.297\nHazard Level 1 GM Pair 4 with Pairing ID 1 has finished successfully in 18.352s!\nEstimate remaining time 330.339\nHazard Level 1 GM Pair 5 with Pairing ID 1 has finished successfully in 40.631s!\nEstimate remaining time 690.719\nHazard Level 1 GM Pair 6 with Pairing ID 1 has finished successfully in 30.533s!\nEstimate remaining time 488.521\nHazard Level 1 GM Pair 7 with Pairing ID 1 has finished successfully in 24.115s!\nEstimate remaining time 361.724\nHazard Level 1 GM Pair 8 with Pairing ID 1 has finished successfully in 15.419s!\nEstimate remaining time 215.864\nHazard Level 1 GM Pair 9 with Pairing ID 1 has finished successfully in 19.765s!\nEstimate remaining time 256.941\nHazard Level 1 GM Pair 10 with Pairing ID 1 has finished successfully in 22.078s!\nEstimate remaining time 264.934\nHazard Level 1 GM Pair 11 with Pairing ID 1 has finished successfully in 9.641s!\nEstimate remaining time 106.047\nHazard Level 1 GM Pair 12 with Pairing ID 1 has finished successfully in 95.055s!\nEstimate remaining time 950.546\nHazard Level 1 GM Pair 13 with Pairing ID 1 has finished successfully in 31.966s!\nEstimate remaining time 287.690\nHazard Level 1 GM Pair 14 with Pairing ID 1 has finished successfully in 29.114s!\nEstimate remaining time 232.915\nHazard Level 1 GM Pair 15 with Pairing ID 1 has finished successfully in 12.422s!\nEstimate remaining time 86.954\nHazard Level 1 GM Pair 16 with Pairing ID 1 has finished successfully in 28.574s!\nEstimate remaining time 171.443\nHazard Level 1 GM Pair 17 with Pairing ID 1 has finished successfully in 11.592s!\nEstimate remaining time 57.961\nHazard Level 1 GM Pair 18 with Pairing ID 1 has finished successfully in 9.376s!\nEstimate remaining time 37.503\nHazard Level 1 GM Pair 19 with Pairing ID 1 has finished successfully in 61.010s!\nEstimate remaining time 183.030\nHazard Level 1 GM Pair 20 with Pairing ID 1 has finished successfully in 63.204s!\nEstimate remaining time 126.408\nHazard Level 1 GM Pair 21 with Pairing ID 1 has finished successfully in 12.686s!\nEstimate remaining time 12.686\n"
    }
   ],
   "source": [
    "Scale_Sa_GM = '0.162958971\t0.325917943\t0.488876914\t0.651835885\t0.814794857\t0.977753828\t1.140712799\t1.303671771\t1.466630742\t1.629589713\t1.792548685\t1.955507656\t2.118466627\t2.281425599\t2.44438457'\n",
    "GM_Num = '22 22 22 22 22 22 22 22 22 22 22 22 22 22 22'\n",
    "GM_folder = r'GM_sets/FEMA44_FarFault'\n",
    "Model_Name = BuildingList[0]\n",
    "\n",
    "# for FEMA Far Field GM set, it contains 22 pairs, we use 15 hazard levels for our IDA\n",
    "start_ID, finish_ID = 1, 23\n",
    "acc_time = 0\n",
    "\n",
    "# Pairing ID == 1\n",
    "for GM_ID in range(start_ID, finish_ID):\n",
    "    s = time.time()\n",
    "    SetupDyamaicAnalysis(ModelDirectory, Scale_Sa_GM, GM_Num, GM_ID, GM_folder, Model_Name, 1)\n",
    "    os.chdir(r'C:\\Users\\User\\Desktop\\WoodFrameBuildingTool\\Python Tool Win\\BuildingModels')\n",
    "    r = os.system('OpenSees RunDynamic_Single.tcl')\n",
    "    f = time.time()\n",
    "    if not r: \n",
    "        print('Hazard Level %i GM Pair %s with Pairing ID %i has finished successfully in %.3fs!'%(int(GM_ID/22)+1, str(GM_ID-int(GM_ID/22)), 1, f-s))\n",
    "        os.remove('RunDynamic_Single.tcl')\n",
    "        acc_time += (f-s)\n",
    "        print('Estimate remaining time %.3fs!'%(acc_time/(GM_ID - start_ID)*(finish_ID - GM_ID))\n",
    "    else: \n",
    "        print('GM Pair %s has failed'%str(GM_ID))\n",
    "        break\n",
    "\n",
    "# Pairing ID == 2\n",
    "for GM_ID in range(start_ID, finish_ID):\n",
    "    s = time.time()\n",
    "    SetupDyamaicAnalysis(ModelDirectory, Scale_Sa_GM, GM_Num, GM_ID, GM_folder, Model_Name, 1)\n",
    "    os.chdir(r'C:\\Users\\User\\Desktop\\WoodFrameBuildingTool\\Python Tool Win\\BuildingModels')\n",
    "    r = os.system('OpenSees RunDynamic_Single.tcl')\n",
    "    f = time.time()\n",
    "    if not r: \n",
    "        print('Hazard Level %i GM Pair %s with Pairing ID %i has finished successfully in %.3fs!'%(int(GM_ID/22)+1, str(GM_ID-int(GM_ID/22)), 1, f-s))\n",
    "        os.remove('RunDynamic_Single.tcl')\n",
    "        acc_time += (f-s)\n",
    "        print('Estimate remaining time %.3fs!'%(acc_time/(GM_ID - start_ID)*(finish_ID - GM_ID))\n",
    "    else: \n",
    "        print('GM Pair %s has failed'%str(GM_ID))\n",
    "        break"
   ]
  },
  {
   "cell_type": "code",
   "execution_count": null,
   "metadata": {},
   "outputs": [],
   "source": []
  }
 ],
 "metadata": {
  "language_info": {
   "codemirror_mode": {
    "name": "ipython",
    "version": 3
   },
   "file_extension": ".py",
   "mimetype": "text/x-python",
   "name": "python",
   "nbconvert_exporter": "python",
   "pygments_lexer": "ipython3",
   "version": "3.6.8-final"
  },
  "orig_nbformat": 2,
  "kernelspec": {
   "name": "python36864bitbaseconda3dc08624a85e470fa36fa1f2715f1e5b",
   "display_name": "Python 3.6.8 64-bit ('base': conda)"
  }
 },
 "nbformat": 4,
 "nbformat_minor": 2
}