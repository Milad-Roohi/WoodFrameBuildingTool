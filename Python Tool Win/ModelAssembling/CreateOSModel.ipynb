{
 "cells": [
  {
   "cell_type": "code",
   "execution_count": 1,
   "metadata": {},
   "outputs": [],
   "source": [
    "import numpy as np \n",
    "import pandas as pd\n",
    "import os \n",
    "import sys\n",
    "from distutils.dir_util import copy_tree\n",
    "\n",
    "# go to the directory where utility functions are stored\n",
    "os.chdir(r'C:\\Users\\User\\Desktop\\WoodFrameBuildingTool\\Python Tool Win\\ModelAssembling')\n",
    "from BuildingModelClass import BuildingModel\n",
    "from utils import *\n",
    "import subprocess\n",
    "import json\n",
    "from json import JSONEncoder\n",
    "from os import spawnle\n",
    "import win32api"
   ]
  },
  {
   "cell_type": "code",
   "execution_count": 3,
   "metadata": {},
   "outputs": [
    {
     "output_type": "stream",
     "name": "stdout",
     "text": "[0.3522614619208698, 0.25412715353010734, 0.229149425056406, 0.10394190316450584]\n[0.3566760968107755, 0.26246152581949644, 0.229493709707616, 0.10406880260602897]\n"
    }
   ],
   "source": [
    "# Utility function directory \n",
    "UtilDirectory = r'C:\\Users\\User\\Desktop\\WoodFrameBuildingTool\\Python Tool Win\\ModelAssembling'\n",
    "# Base directory is the main directory that models, model inputs and utility directory stores\n",
    "BaseDirectory = UtilDirectory.replace(\"ModelAssembling\", \"\")\n",
    "# Model directory is where you want to store your model\n",
    "ModelDirectory = BaseDirectory + '\\BuildingModels'\n",
    "# DB directory is where you store Database.csv (for steel section)\n",
    "DBDirecctory = UtilDirectory\n",
    "\n",
    "# If there is no model directory, create one\n",
    "if os.path.isdir(ModelDirectory) != True:\n",
    "    os.chdir(BaseDirectory)\n",
    "    os.mkdir('BuildingModels')\n",
    "    \n",
    "# Read in building name \n",
    "# Make sure the building name is consistent with the input folders\n",
    "os.chdir(UtilDirectory)\n",
    "with open('BuildingName.txt', 'r') as f:\n",
    "    BuildingList = f.read() \n",
    "BuildingList = BuildingList.split('\\n')\n",
    "\n",
    "# Generate eigen analysis, pushover analysis and dynamic analysis models for each one in the building list\n",
    "for i in range(len(BuildingList)):\n",
    "    InfoDirectory = BaseDirectory + '\\BuildingInfo\\%s'%BuildingList[i]\n",
    "    ModelClass = BuildingModel(BuildingList[i], InfoDirectory)\n",
    "\n",
    "    # alternatively, one can choose to read inputs from json \n",
    "    ModelClass.read_in_txt_inputs(BuildingList[i], InfoDirectory)\n",
    "\n",
    "    if os.path.isdir(ModelDirectory+'\\%s'%BuildingList[i]) != True:\n",
    "        os.chdir(ModelDirectory)\n",
    "        os.mkdir('%s'%BuildingList[i])\n",
    "        \n",
    "    os.chdir(ModelDirectory+'/%s'%BuildingList[i])\n",
    "    period = generateModalAnalysisModel(ModelClass.ID, ModelClass, BaseDirectory, DBDirecctory)\n",
    "    # Turn off RunPushoverSwitch to speed up the model creation \n",
    "    generatePushoverAnalysisModel(ModelClass.ID, ModelClass, BaseDirectory, DBDirecctory,\n",
    "                               GenerateModelSwitch = True, RunPushoverSwitch = False)\n",
    "    generateDynamicAnalysisModel(ModelClass.ID, ModelClass, BaseDirectory, DBDirecctory, period,\n",
    "                               GenerateModelSwitch = True)\n",
    "    print(period)\n"
   ]
  },
  {
   "cell_type": "code",
   "execution_count": 13,
   "metadata": {},
   "outputs": [],
   "source": [
    "def SetupSingleGMDyamaicAnalysis(Scale_Sa_GM, GM_Num, No_GM, period, scale, pair_id, GM_id):\n",
    "    os.chdir(DynamicDirectory)\n",
    "    fin = open('RunDynamic.tcl', 'rt')\n",
    "    fout = open('RunDynamic_Single.tcl', 'wt')\n",
    "\n",
    "    filedata = fin.read('*Scale_Sa_GM*', Scale_Sa_GM)\n",
    "    filedata = filedata.replace('*GMset_Num*', GM_Num)\n",
    "    filedata = filedata.replace('*thirdModePeriod*', str(period[2]))\n",
    "    filedata = filedata.replace('*GM_folder_name*', \"%s\"%GM_folder)\n",
    "    filedata = filedata.replace('*NumberOfGroundMotions*', str(No_GM))\n",
    "    filedata = filedata.replace('*Pairing_ID*', str(pair_id))\n",
    "    filedata = filedata.replace('*GM_pair_ID*', str(GM_id))\n",
    "    filedata = filedata.replace('*AllScales*', str(100))\n",
    "\n",
    "\n",
    "    fout.write(filedata)\n",
    "    fin.close()\n",
    "    fout.close()"
   ]
  },
  {
   "cell_type": "code",
   "execution_count": 15,
   "metadata": {},
   "outputs": [],
   "source": [
    "SetupSingleGMDyamaicAnalysis(r'C:/Users/User/Desktop/WoodFrameBuildingTool/Python Tool Win/BuildingModels/Building_T1-60x30-S2-GS_Ordinance/DynamicAnalysis', r'C:/Users/User/Desktop/WoodFrameBuildingTool/Python Tool Win/BuildingModels/GM_sets/FEMA44-FarFault', 44, period, 100, 1, 1)"
   ]
  },
  {
   "cell_type": "code",
   "execution_count": null,
   "metadata": {},
   "outputs": [],
   "source": []
  }
 ],
 "metadata": {
  "language_info": {
   "codemirror_mode": {
    "name": "ipython",
    "version": 3
   },
   "file_extension": ".py",
   "mimetype": "text/x-python",
   "name": "python",
   "nbconvert_exporter": "python",
   "pygments_lexer": "ipython3",
   "version": "3.6.8-final"
  },
  "orig_nbformat": 2,
  "kernelspec": {
   "name": "python36864bitbaseconda3dc08624a85e470fa36fa1f2715f1e5b",
   "display_name": "Python 3.6.8 64-bit ('base': conda)"
  }
 },
 "nbformat": 4,
 "nbformat_minor": 2
}